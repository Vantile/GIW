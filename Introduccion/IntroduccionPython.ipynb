{
 "cells": [
  {
   "cell_type": "markdown",
   "metadata": {},
   "source": [
    "### Práctica de Introducción al lenguaje Python"
   ]
  },
  {
   "cell_type": "markdown",
   "metadata": {},
   "source": [
    "#### Ejercicio 1[3 puntos]\n",
    "Considerar las monedas y billetes en curso de la Unión Europea. Se pide hacer un programa con  las funciones necesarias para  gestionar un terminal de punto de venta. Concretamente se quiere ayudar al cajero de manera que cuando introduzca el importe de la venta y el dinero entregado por el cliente, el programa muestre las vueltas que debe entregar al cliente de una forma óptima. Las vueltas son óptimas si para pagar una cantidad C se utiliza el menor número posible de monedas o billetes. Se va a suponer que existen monedas y billetes infinitos en el terminal de punto de venta."
   ]
  },
  {
   "cell_type": "code",
   "execution_count": 2,
   "metadata": {
    "collapsed": true
   },
   "outputs": [],
   "source": [
    "monedas=[500,200,100,50,20,10,5,2,1,0.5,0.2,0.1,0.05,0.02,0.01] #Lista con tipos de unidades monetarias europeas"
   ]
  },
  {
   "cell_type": "code",
   "execution_count": 3,
   "metadata": {
    "collapsed": true
   },
   "outputs": [],
   "source": [
    "# Devuelve una lista con las unidades monetarias devueltas\n",
    "def monedasFunc(total):\n",
    "    # Inicializacion\n",
    "    vueltas=[]\n",
    "    restante=total\n",
    "    ind=0\n",
    "    # Mientras que haya dinero que devolver\n",
    "    while (restante>0):\n",
    "        # Mientras que la unidad monetaria actual sea mayor a la cantidad restante\n",
    "        # Procurar que el indice no se salga del rango de la lista\n",
    "        while (ind < len(monedas) and monedas[ind]>restante):\n",
    "            ind=ind+1\n",
    "        vueltas.append(monedas[ind]) # Añade la unidad monetaria a devolver a la lista\n",
    "        restante=restante-monedas[ind] # Resta el valor a la cantidad restante\n",
    "        restante=round(restante,2) # Redondeamos para evitar problemas con los float\n",
    "    return vueltas"
   ]
  },
  {
   "cell_type": "code",
   "execution_count": 4,
   "metadata": {},
   "outputs": [
    {
     "name": "stdout",
     "output_type": "stream",
     "text": [
      "[100, 20, 2, 1]\n"
     ]
    }
   ],
   "source": [
    "x = monedasFunc(123)\n",
    "print(x)"
   ]
  },
  {
   "cell_type": "markdown",
   "metadata": {},
   "source": [
    "#### Ejercicio 2[3,5 puntos]\n",
    "Considerar un sistema de cifrado en el que se sustituye cada letra en el texto original por otra letra que se encuentra un número fijo de posiciones más adelante en el alfabeto. Por ejemplo si el desplazamiento es 3 posiciones, y se considera la letra A, entonces sería sustituida por la letra D que se encuentra situada 3 lugares a la derecha de la A. Se considera que el alfabeto es circular por lo que a continuación de la Z comienza la letra A. Sólo se codifican las letras, el resto de símbolos se mantienen tal cual. A continuación, una vez cifrado el texto, si éste contiene más de una palabra, entonces se reordenan las palabras cifradas, moviendo cada palabra m posiciones hacia la derecha. Así la palabra que ocupa la posición 1 se mueve a la posición m+1, y así sucesivamente (la palabra que ocupa la posición n se moverá a la posición m). Se pide implementar un programa en Python que solicite al usuario que introduzca por teclado un texto a codificar, dos números que representan el desplazamiento de letras y el desplazamiento de las palabras codificadas. Como resultado, el programa mostrará por pantalla el mensaje codificado. Se deben hacer las comprobaciones necesarias sobre la entrada, es decir que es una cadena y 2 números.\n"
   ]
  },
  {
   "cell_type": "code",
   "execution_count": 17,
   "metadata": {},
   "outputs": [
    {
     "name": "stdout",
     "output_type": "stream",
     "text": [
      "Texto a cifrar:hola Que talZz 12\n",
      "Desplazamiento de cada letra:2\n",
      "Desplazamineto de cada palabra:2\n",
      "vcnbb 12 jqnc swg \n"
     ]
    }
   ],
   "source": [
    "#Función para mover cada letra de cada palabra\n",
    "def moverLetras(frase,desplazaLetra):\n",
    "    \n",
    "    #lista donde almaceno las nuevas letras rotadas\n",
    "    fraseNuevo=[]\n",
    "    \n",
    "    for i in range(0,len(frase)):\n",
    "        #Si es una letra\n",
    "        if frase[i].isalpha():\n",
    "                \n",
    "            #obtenemos el número en código ascii\n",
    "            codigoAscii = ord(frase[i])\n",
    "            \n",
    "            #si el usuario mete un numero mayor de 26(z),entonces empieza el abecedario de nuevo ,al ser circular\n",
    "            posicion = desplazaLetra % 26\n",
    "            #posicionActual es el codigo ascii de la letra ya rotada\n",
    "            posicionActual = codigoAscii + posicion\n",
    "            #Comprobamos si es una letra mayúsculas(de 65-90 son mayúsculas)\n",
    "            if codigoAscii <= 90:\n",
    "                if codigoAscii >= 65:\n",
    "                    posicionActual = posicionActual + 32 #entonces convertimos la mayuscula rotada en minuscula     \n",
    "            #Si se excede de z vuelve a empezar en el abecedario(circular)\n",
    "            if posicionActual > 122:\n",
    "                posicionActual = posicionActual - 26\n",
    "                    \n",
    "            #añadimos la nueva letra\n",
    "            fraseNuevo.append(chr(posicionActual))\n",
    "        #si no es una letra la inserto igual\n",
    "        else:\n",
    "            fraseNuevo.append(frase[i]) \n",
    "        \n",
    "        #convierto la lista en un string y la devuelvo\n",
    "        delimit=\"\"\n",
    "        string = delimit.join(fraseNuevo)\n",
    "         \n",
    "    return string\n",
    "\n",
    "#Función para mover las palabras m posiciones a la derecha\n",
    "def moverPalabras(frase,desplazaPalabra):\n",
    "    \n",
    "    #insertamos en la lista nueva las palabras deplazadas\n",
    "    fraseNueva=[]\n",
    "    #en cada posicion de la lista hay una palabra del texto\n",
    "    palabras= frase.split()\n",
    "    \n",
    "    for i in range(0,len(palabras)):\n",
    "        #consigo la posicion desde donde voy a ir insertando las palabras en la lista\n",
    "        posicion=(len(palabras)-desplazaPalabra+i)%len(palabras)\n",
    "        #lo inserto en la lista y le pongo un espacio para que no estén todas las palabras juntas\n",
    "        fraseNueva.append(palabras[posicion]+\" \")\n",
    "        #lo convertimos a un string y lo devolvemos\n",
    "        delimit=\"\"\n",
    "        string = delimit.join(fraseNueva)\n",
    "         \n",
    "    return string\n",
    "    \n",
    "#Pido al usuario la frase\n",
    "frase= input (\"Texto a cifrar:\")\n",
    "#Ahora le pido el desplazamiento en cada letra\n",
    "desplazaLetra= input (\"Desplazamiento de cada letra:\")\n",
    "#La convierto a int\n",
    "desplazaLetra=int (desplazaLetra)\n",
    "#Ahora le piedo el desplazamiento en cada palabra\n",
    "desplazaPalabra= input (\"Desplazamineto de cada palabra:\")\n",
    "#La convierto a int\n",
    "desplazaPalabra=int (desplazaPalabra)\n",
    "\n",
    "#LLamo a las dos funciones y me devuleven un string con la frase y luego la muestro\n",
    "texto = moverLetras(frase,desplazaLetra)\n",
    "texto = moverPalabras(texto,desplazaPalabra)\n",
    "print (texto)"
   ]
  },
  {
   "cell_type": "markdown",
   "metadata": {},
   "source": [
    "#### Ejercicio 3[3,5 puntos]\n",
    "Implementar un programa en Python tal que tomando como entrada el nombre de un archivo de texto, analice el contenido  y escriba otro archivo de salida que muestre el número de veces que aparece cada palabra. Se deben eliminar separadores, conjunciones, artículos y preposiciones."
   ]
  },
  {
   "cell_type": "code",
   "execution_count": 2,
   "metadata": {},
   "outputs": [
    {
     "name": "stdout",
     "output_type": "stream",
     "text": [
      "Introducir nombre del archivo: texto3.txt\n",
      "['lugar: 1\\n', 'mancha: 1\\n', 'cuyo: 1\\n', 'nombre: 1\\n', 'no: 2\\n', 'quiero: 1\\n', 'acordarme: 1\\n', 'ha: 1\\n', 'mucho: 1\\n', 'tiempo: 1\\n', 'que: 2\\n', 'vivía: 1\\n', 'hidalgo: 1\\n', 'lanza: 1\\n', 'astillero: 1\\n', 'adarga: 1\\n', 'antigua: 1\\n', 'rocín: 1\\n', 'flaco: 1\\n', 'galgo: 1\\n', 'corredor: 1\\n', 'olla: 1\\n', 'algo: 1\\n', 'más: 3\\n', 'vaca: 1\\n', 'carnero: 1\\n', 'salpicón: 1\\n', 'noches: 1\\n', 'duelos: 1\\n', 'quebrantos: 1\\n', 'sábados: 1\\n', 'lentejas: 1\\n', 'viernes: 1\\n', 'algún: 1\\n', 'palomino: 1\\n', 'añadidura: 1\\n', 'domingos: 1\\n', 'consumían: 1\\n', 'tres: 1\\n', 'partes: 1\\n', 'su: 2\\n', 'hacienda: 1\\n', 'resto: 1\\n', 'della: 1\\n', 'concluían: 1\\n', 'sayo: 1\\n', 'velarte: 1\\n', 'calzas: 1\\n', 'velludo: 1\\n', 'fiestas: 1\\n', 'sus: 1\\n', 'pantuflos: 1\\n', 'lo: 2\\n', 'mismo: 1\\n', 'días: 1\\n', 'semana: 1\\n', 'se: 1\\n', 'honraba: 1\\n', 'vellori: 1\\n', 'fino: 1\\n']\n"
     ]
    }
   ],
   "source": [
    "#Definicion de la funcion que abrira el fichero y contara el numero de veces que aparece cada palabra\n",
    "def contadorPalabras():\n",
    "\n",
    "    diccionario = dict() #Diccionario donde guardaremos las palabras del texto como claves y el numero de veces que aparecen como su valor\n",
    "    \n",
    "    nombreArchivo = input(\"Introducir nombre del archivo: \") #Introducimos el nombre del fichero que queremos leer\n",
    "    lectura = open(nombreArchivo) #Lo abrimos\n",
    "    \n",
    "    listaPunt = ['-',',','.',';',':','\"','?','!'] #Lista de los signos de puntuacion que debemos eliminar\n",
    "    #Lista de conjunciones, preposiciones y articulos que debemos eliminar\n",
    "    listaIgnorados = ['y','o','e','u','el','la','los','las','un','una','unos','unas','a','ante','bajo','con','contra','de','desde','en','entre','durante','hasta','para','por','según','sin','sobre','tras','mediante']\n",
    "    separador = \" \" #Separador por el que se uniran todas las palabras del texto\n",
    "    \n",
    "    #Tratamiento del texto\n",
    "    for linea in lectura:\n",
    "        linea = linea.rstrip() #Eliminamos los saltos de linea\n",
    "        \n",
    "    linea = linea.lower() #Pasamos todas las palabras a minuscula para que no haya distinciones\n",
    "    \n",
    "    #Comezamos a eliminar todos los signos de puntuacion que pueden acompañar a las palabras\n",
    "    for s in listaPunt:\n",
    "        linea = linea.split(s) #Separamos la palabras por el signo de puntuacion\n",
    "        linea = separador.join(linea) #Y volvemos a juntarlas colocando un espacio en blanco en su lugar\n",
    "    #Hasta ahora el texto sigue completo\n",
    "    \n",
    "    linea = linea.split() #Es en este momento en el que tenemos todas las palabras limpias y la separamos por los espacios en blanco, quedandonos cada palabra por separado en una lista\n",
    "   \n",
    "    #Empezamos a introducir las palabras en el diccionario y a contar cuantas veces aparecen\n",
    "    for i in linea:\n",
    "        if i in listaIgnorados: #Si la palabra que vamos a tratar es una de las que debamos ignorar:\n",
    "            continue #Pasamos directamente a la siguiente iteracion del bucle\n",
    "        #Si no lo es:\n",
    "        if i in diccionario: #Comprobamos si ya esta en el diccionario\n",
    "            diccionario[i] = diccionario[i]+1 #Y le sumamos uno a su valor si ya estaba\n",
    "        else:\n",
    "            diccionario[i] = 1 #O lo introducimos con valor 1 si no se encontraba anteriormente\n",
    "    \n",
    "    #Pasamos a escribir los resultados en un nuevo fichero\n",
    "    archivoSalida = \"numPalabras.txt\" #Nombre del fichero\n",
    "    \n",
    "    arc_write = open(archivoSalida, 'w') #Abrimos el fichero en modo escritura\n",
    "    \n",
    "    #Recorremos todos los pares clave valor del diccinoario\n",
    "    for palabra, veces in diccionario.items():    \n",
    "        arc_write.write(palabra + \": \" + str(veces) + '\\n') #Y los escribimos en el fichero\n",
    "        \n",
    "    arc_write.close() #Cerramos el fichero de escritura\n",
    "    \n",
    "    return archivoSalida #Y devolvemos el nombre del fichero salida para poder abrirlo con otra funcion que nos mostrara el resultado\n",
    "    \n",
    "    \n",
    "#Definicion de la funcion que mostrara por pantalla lo que hemos escrito en el fichero de salida como solucion\n",
    "def verResultado(archivo):\n",
    "    lineas = open(archivo).readlines() #Abre y lee el fichero cuyo nombre le pasamos por parametro\n",
    "    print(lineas) #Y lo mostramos\n",
    "    \n",
    "    \n",
    "#Llamadas a las funciones    \n",
    "archivoSalida = contadorPalabras() #Guardamos en la variable el nombre del fichero donde hemos escrito la solucion\n",
    "verResultado(archivoSalida) #Y se la pasamos como parametro para poder visualizarlo"
   ]
  },
  {
   "cell_type": "markdown",
   "metadata": {},
   "source": [
    "#### Normas de entrega\n",
    "\n",
    "* Fecha tope de entrega: 13/10/2017\n",
    "* La entrega se realizará subiendo al campus virtual un notebook de Jupyter con la solución. El archivo tendrá como nombre IntroPython_GrupoX donde X será el número de grupo correspondiente."
   ]
  }
 ],
 "metadata": {
  "anaconda-cloud": {},
  "kernelspec": {
   "display_name": "Python 3",
   "language": "python",
   "name": "python3"
  },
  "language_info": {
   "codemirror_mode": {
    "name": "ipython",
    "version": 3
   },
   "file_extension": ".py",
   "mimetype": "text/x-python",
   "name": "python",
   "nbconvert_exporter": "python",
   "pygments_lexer": "ipython3",
   "version": "3.6.2"
  }
 },
 "nbformat": 4,
 "nbformat_minor": 1
}
